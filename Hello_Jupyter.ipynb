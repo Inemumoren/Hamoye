{
  "nbformat": 4,
  "nbformat_minor": 0,
  "metadata": {
    "colab": {
      "name": "Hello Jupyter.ipynb",
      "provenance": [],
      "authorship_tag": "ABX9TyMoHEvQCKLmgiAC6aiRH1tU",
      "include_colab_link": true
    },
    "kernelspec": {
      "name": "python3",
      "display_name": "Python 3"
    }
  },
  "cells": [
    {
      "cell_type": "markdown",
      "metadata": {
        "id": "view-in-github",
        "colab_type": "text"
      },
      "source": [
        "<a href=\"https://colab.research.google.com/github/Inemumoren/Hamoye/blob/master/Hello_Jupyter.ipynb\" target=\"_parent\"><img src=\"https://colab.research.google.com/assets/colab-badge.svg\" alt=\"Open In Colab\"/></a>"
      ]
    },
    {
      "cell_type": "code",
      "metadata": {
        "id": "jkCOu7C1prdB",
        "colab_type": "code",
        "colab": {
          "base_uri": "https://localhost:8080/",
          "height": 34
        },
        "outputId": "de97c635-a679-4cc1-8c3b-032c16e39915"
      },
      "source": [
        "import time\n",
        "print(time.ctime())"
      ],
      "execution_count": 1,
      "outputs": [
        {
          "output_type": "stream",
          "text": [
            "Sun Jul 26 15:39:54 2020\n"
          ],
          "name": "stdout"
        }
      ]
    },
    {
      "cell_type": "code",
      "metadata": {
        "id": "7IXeEoA3v-dW",
        "colab_type": "code",
        "colab": {
          "base_uri": "https://localhost:8080/",
          "height": 34
        },
        "outputId": "9cc613ae-5f78-4441-b925-960d3434f8c5"
      },
      "source": [
        "time.sleep(5)\n",
        "print(time.ctime())"
      ],
      "execution_count": 2,
      "outputs": [
        {
          "output_type": "stream",
          "text": [
            "Sun Jul 26 15:40:00 2020\n"
          ],
          "name": "stdout"
        }
      ]
    },
    {
      "cell_type": "markdown",
      "metadata": {
        "id": "qjp53HqXzoVe",
        "colab_type": "text"
      },
      "source": [
        "This is **bold**\n",
        "This is *italic*\n",
        "This is ~strikethrough~"
      ]
    },
    {
      "cell_type": "markdown",
      "metadata": {
        "id": "DGpMqZhE0sX3",
        "colab_type": "text"
      },
      "source": [
        "$\\sqrt{3x-1}+(1+x)^2$"
      ]
    },
    {
      "cell_type": "markdown",
      "metadata": {
        "id": "2zqi0xi5002e",
        "colab_type": "text"
      },
      "source": [
        "$e^x=\\sum_{i=0}^\\infty \\frac{1}{i!}x^i$"
      ]
    },
    {
      "cell_type": "markdown",
      "metadata": {
        "id": "_JlrrY1a2FFZ",
        "colab_type": "text"
      },
      "source": [
        "$\\frac{3}{x}$"
      ]
    },
    {
      "cell_type": "markdown",
      "metadata": {
        "id": "fltTPFCV2kUh",
        "colab_type": "text"
      },
      "source": [
        "$f(x_1, x_2) = 20 + e - 20exp(-0.2 \\sqrt {\\frac {1}{n} (x_1^2 + x_2^2)}) - exp\n",
        "(\\frac {1}{n}(cos(2\\pi x_1) + cos(2\\pi x_2))$\n",
        "$x ∈ [-5, 5]$\n",
        ">$A_{m,n} =\n",
        "\\begin{pmatrix}\n",
        " a_{1,1} & a_{1,2} & \\cdots & a_{1,n} \\\\\n",
        " a_{2,1} & a_{2,2} & \\cdots & a_{2,n} \\\\\n",
        " \\vdots & \\vdots & \\ddots & \\vdots \\\\\n",
        " a_{m,1} & a_{m,2} & \\cdots & a_{m,n}\n",
        "\\end{pmatrix}$\n"
      ]
    },
    {
      "cell_type": "markdown",
      "metadata": {
        "id": "fDme03fX2MGW",
        "colab_type": "text"
      },
      "source": [
        "Constraints are\n",
        " - $3x_1 + 6x_2 + x_3 =< 28$\n",
        " - $7x_1 + 3x_2 + 2x_3 =< 37$\n",
        " - $4x_1 + 5x_2 + 2x_3 =< 19$\n",
        " - $x_1,x_2,x_3 >=0 $\n",
        "The trial vector is calculated as follows:\n",
        "- $u_i(t) = x_i(t) + \\beta(\\hat{x}(t) − x_i(t)) + \\beta \\sum_{k = 1}^{n\n",
        " _v}(x_{i1,k}(t) − x_{i2,k}(t))$ \n",
        " $f(x_1, x_2) = 20 + e - 20exp(-0.2 \\sqrt {\\frac {1}{n} (x_1^2 + x_2^2)}) - exp\n",
        "(\\frac {1}{n}(cos(2\\pi x_1) + cos(2\\pi x_2))$\n",
        "$x ∈ [-5, 5]$\n",
        ">$A_{m,n} =\n",
        "\\begin{pmatrix}\n",
        " a_{1,1} & a_{1,2} & \\cdots & a_{1,n} \\\\\n",
        " a_{2,1} & a_{2,2} & \\cdots & a_{2,n} \\\\\n",
        " \\vdots & \\vdots & \\ddots & \\vdots \\\\\n",
        " a_{m,1} & a_{m,2} & \\cdots & a_{m,n}\n",
        "\\end{pmatrix}$\n"
      ]
    },
    {
      "cell_type": "code",
      "metadata": {
        "id": "H0hDXY2S1-Qb",
        "colab_type": "code",
        "colab": {}
      },
      "source": [
        ""
      ],
      "execution_count": null,
      "outputs": []
    }
  ]
}